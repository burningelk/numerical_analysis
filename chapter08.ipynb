{
 "cells": [
  {
   "cell_type": "code",
   "execution_count": null,
   "id": "f5013bc3",
   "metadata": {},
   "outputs": [],
   "source": [
    "import numpy as np\n",
    "import matplotlib.pylab as plt\n",
    "%matplotlib inline\n",
    "%config InlineBackend.figure_format='retina'"
   ]
  },
  {
   "cell_type": "markdown",
   "id": "2557f70d",
   "metadata": {},
   "source": [
    "# Chapter 8. Approximation Theory\n",
    "## 8.1 Discrete Least Squares Approximation"
   ]
  },
  {
   "cell_type": "code",
   "execution_count": null,
   "id": "840b5a85",
   "metadata": {},
   "outputs": [],
   "source": [
    "x = np.arange(1,11)\n",
    "y = np.array([1.3, 3.5, 4.2, 5.0, 7.0, 8.8, 10.1, 12.5, 13.0, 15.6])"
   ]
  },
  {
   "cell_type": "code",
   "execution_count": null,
   "id": "62adfa8d",
   "metadata": {},
   "outputs": [],
   "source": [
    "plt.figure(figsize=(12,10))\n",
    "plt.plot(x,y,'o')"
   ]
  },
  {
   "cell_type": "markdown",
   "id": "786a00e9",
   "metadata": {},
   "source": [
    "## Linear least squares\n",
    "\n",
    "$$y = a_0 + a_1 x$$\n",
    "\n",
    "where\n",
    "\n",
    "$$a_0 = \\frac{\\displaystyle \\sum_{i=1}^m x_i^2 \\sum_{i=1}^m y_i - \\sum_{i=1}^m x_i y_i \\sum_{i=1}^m x_i}{\\displaystyle m\\left(\\sum_{i=1}^m x_i^2\\right) - \\left(\\sum_{i=1}^m x_i\\right)^2} \\qquad \\text{and} \\qquad a_1 = \\frac{\\displaystyle m \\sum_{i=1}^m x_i y_i - \\sum_{i=1}^m x_i \\sum_{i=1}^m y_i}{\\displaystyle m\\left(\\sum_{i=1}^m x_i^2\\right) - \\left(\\sum_{i=1}^m x_i\\right)^2}$$"
   ]
  },
  {
   "cell_type": "markdown",
   "id": "6cb401d1",
   "metadata": {},
   "source": [
    "### Q1: Write the appropriate code for the 'None' position."
   ]
  },
  {
   "cell_type": "code",
   "execution_count": null,
   "id": "0472d114",
   "metadata": {},
   "outputs": [],
   "source": [
    "def linear_least_squares(x,y):\n",
    "    m = len(x)\n",
    "    x_square = None\n",
    "    y_sum = None\n",
    "    x_sum = None\n",
    "    xy = None\n",
    "    denominator = None\n",
    "    a0 = None\n",
    "    a1 = None\n",
    "    return (a0, a1)"
   ]
  },
  {
   "cell_type": "code",
   "execution_count": null,
   "id": "a8adf503",
   "metadata": {},
   "outputs": [],
   "source": [
    "a0, a1 = linear_least_squares(x,y)"
   ]
  },
  {
   "cell_type": "code",
   "execution_count": null,
   "id": "c065780e",
   "metadata": {},
   "outputs": [],
   "source": [
    "y_ls = a0 + a1 * x\n",
    "\n",
    "plt.figure(figsize=(12,10))\n",
    "plt.plot(x,y,'o', label = 'data')\n",
    "plt.plot(x,y_ls,'r-', label = 'least squares approximation')\n",
    "plt.legend()\n",
    "plt.title('Least squares approximation: $y$ = {:.5f}$x + $ {:.5f}'.format(a1,a0))"
   ]
  },
  {
   "cell_type": "markdown",
   "id": "ef2372d7",
   "metadata": {},
   "source": [
    "ans = \n",
    "<img src=\"https://github.com/dw-shin/numerical_analysis/blob/main/figures/least_squares.png?raw=true.\\\" width=\"700\"/>"
   ]
  },
  {
   "cell_type": "markdown",
   "id": "3f930d3c",
   "metadata": {},
   "source": [
    "## Matrix Form\n",
    "$$A\\boldsymbol{x} = \\boldsymbol{b}$$\n",
    "\n",
    "### Normal Equation\n",
    "$$A^T A\\boldsymbol{x} = A^T \\boldsymbol{b}$$"
   ]
  },
  {
   "cell_type": "code",
   "execution_count": null,
   "id": "a0f0f53d",
   "metadata": {},
   "outputs": [],
   "source": [
    "A = np.array([[1, xval] for xval in range(1,11)])\n",
    "b = np.array([1.3, 3.5, 4.2, 5.0, 7.0, 8.8, 10.1, 12.5, 13.0, 15.6])"
   ]
  },
  {
   "cell_type": "code",
   "execution_count": null,
   "id": "05d27f77",
   "metadata": {},
   "outputs": [],
   "source": [
    "coef = np.linalg.solve(np.matmul(A.T,A),np.matmul(A.T,b))"
   ]
  },
  {
   "cell_type": "code",
   "execution_count": null,
   "id": "68e7a944",
   "metadata": {},
   "outputs": [],
   "source": [
    "y_ls = coef[0] + coef[1] * x\n",
    "\n",
    "plt.figure(figsize=(12,10))\n",
    "plt.plot(x,y,'o', label = 'data')\n",
    "plt.plot(x,y_ls,'r-', label = 'least squares approximation')\n",
    "plt.legend()\n",
    "plt.title('Least squares approximation: $y$ = {:.5f}$x + $ {:.5f}'.format(coef[1],coef[0]))"
   ]
  },
  {
   "cell_type": "markdown",
   "id": "70069392",
   "metadata": {},
   "source": [
    "ans = \n",
    "<img src=\"https://github.com/dw-shin/numerical_analysis/blob/main/figures/least_squares.png?raw=true.\\\" width=\"700\"/>"
   ]
  },
  {
   "cell_type": "markdown",
   "id": "2283b6d2",
   "metadata": {},
   "source": [
    "## Polynomial Least Squares\n",
    "\n",
    "The general problem of approximating a set of data, $\\{(x_i, y_i)\\ |\\ i = 1,2,\\cdots,m\\}$, with an algebraic polynomial\n",
    "\n",
    "$$P_n(x) = a_n x^n + a_{n-1} x^{n-1} + \\cdots + a_1 x + a_0$$\n",
    "\n",
    "of degree $n\\le m-1$, using the least squares procedure is handled similarly.\n",
    "<br>\n",
    "<br>\n",
    "\n",
    "$\\Rightarrow$ $n+1$ \\textbf{normal equations} in the $n+1$ unknowns $a_k$.\n",
    "\n",
    "$$\\sum_{k=0}^n a_k\\sum_{i=1}^m x_i^{j+k} = \\sum_{j=1}^m y_i x_i^j,\\qquad \\text{for each}\\quad j =0,1,\\cdots,n$$"
   ]
  },
  {
   "cell_type": "markdown",
   "id": "c5b01e97",
   "metadata": {},
   "source": [
    "### Q2: Write the appropriate code for the 'None' position."
   ]
  },
  {
   "cell_type": "code",
   "execution_count": null,
   "id": "e5aac2d3",
   "metadata": {},
   "outputs": [],
   "source": [
    "def polynomial_least_squares(x,y,n):\n",
    "    m = len(x)\n",
    "    A = np.zeros((n+1,n+1))\n",
    "    b = np.zeros(n+1)\n",
    "    for j in range(n+1):\n",
    "        for k in range(n+1):\n",
    "            for i in range(m):\n",
    "                A[j,k] += None\n",
    "        for i in range(m):\n",
    "            b[j] += None\n",
    "    coef = np.linalg.solve(A,b)\n",
    "    return coef"
   ]
  },
  {
   "cell_type": "code",
   "execution_count": null,
   "id": "760c7cfb",
   "metadata": {},
   "outputs": [],
   "source": [
    "x = np.array([0., 0.25, 0.5, 0.75, 1.00])\n",
    "y = np.array([1., 1.2840, 1.6487, 2.1170, 2.7183])"
   ]
  },
  {
   "cell_type": "code",
   "execution_count": null,
   "id": "68280ca4",
   "metadata": {},
   "outputs": [],
   "source": [
    "coef = polynomial_least_squares(x,y,2)"
   ]
  },
  {
   "cell_type": "code",
   "execution_count": null,
   "id": "065f9fa3",
   "metadata": {},
   "outputs": [],
   "source": [
    "xx = np.linspace(0,1)\n",
    "y_ls = coef[0] + coef[1] * xx + coef[2] * xx**2\n",
    "\n",
    "plt.figure(figsize=(12,10))\n",
    "plt.plot(x,y,'o', label = 'data')\n",
    "plt.plot(xx,y_ls,'r-', label = 'polynomial least squares approximation')\n",
    "plt.legend()\n",
    "plt.title('Polynomial least squares approximation: $y$ = {:.5f}$x^2 + $ {:.5f}$x + $ {:.5f}'.format(coef[2],coef[1],coef[0]))"
   ]
  },
  {
   "cell_type": "markdown",
   "id": "1f817a7f",
   "metadata": {},
   "source": [
    "ans = \n",
    "<img src=\"https://github.com/dw-shin/numerical_analysis/blob/main/figures/poly_least_squares.png?raw=true.\\\" width=\"700\"/>"
   ]
  },
  {
   "cell_type": "markdown",
   "id": "d23574ea",
   "metadata": {},
   "source": [
    "## Matrix Form"
   ]
  },
  {
   "cell_type": "code",
   "execution_count": null,
   "id": "24ec6f34",
   "metadata": {},
   "outputs": [],
   "source": [
    "A = np.array([[1, xval, xval**2] for xval in x])\n",
    "b = y.copy()"
   ]
  },
  {
   "cell_type": "code",
   "execution_count": null,
   "id": "b84eea15",
   "metadata": {},
   "outputs": [],
   "source": [
    "coef = np.linalg.solve(np.matmul(A.T,A),np.matmul(A.T,b))"
   ]
  },
  {
   "cell_type": "code",
   "execution_count": null,
   "id": "c193da10",
   "metadata": {},
   "outputs": [],
   "source": [
    "xx = np.linspace(0,1)\n",
    "y_ls = coef[0] + coef[1] * xx + coef[2] * xx**2\n",
    "\n",
    "plt.figure(figsize=(12,10))\n",
    "plt.plot(x,y,'o', label = 'data')\n",
    "plt.plot(xx,y_ls,'r-', label = 'polynomial least squares approximation')\n",
    "plt.legend()\n",
    "plt.title('Polynomial least squares approximation: $y$ = {:.5f}$x^2 + $ {:.5f}$x + $ {:.5f}'.format(coef[2],coef[1],coef[0]))"
   ]
  },
  {
   "cell_type": "markdown",
   "id": "3cc0aa0e",
   "metadata": {},
   "source": [
    "ans = \n",
    "<img src=\"https://github.com/dw-shin/numerical_analysis/blob/main/figures/poly_least_squares.png?raw=true.\\\" width=\"700\"/>"
   ]
  },
  {
   "cell_type": "markdown",
   "id": "b1b96d38",
   "metadata": {},
   "source": [
    "### Using 4-digit rounding arithmetic"
   ]
  },
  {
   "cell_type": "code",
   "execution_count": null,
   "id": "9c40e283",
   "metadata": {},
   "outputs": [],
   "source": [
    "coef = np.linalg.solve(np.round(np.matmul(A.T,A),4), np.round(np.matmul(A.T,b),4))"
   ]
  },
  {
   "cell_type": "code",
   "execution_count": null,
   "id": "42cb79fd",
   "metadata": {},
   "outputs": [],
   "source": [
    "xx = np.linspace(0,1)\n",
    "y_ls = coef[0] + coef[1] * xx + coef[2] * xx**2\n",
    "\n",
    "plt.figure(figsize=(12,10))\n",
    "plt.plot(x,y,'o', label = 'data')\n",
    "plt.plot(xx,y_ls,'r-', label = 'polynomial least squares approximation')\n",
    "plt.legend()\n",
    "plt.title('Polynomial least squares approximation: $y$ = {:.5f}$x^2 + $ {:.5f}$x + $ {:.4f}'.format(coef[2],coef[1],coef[0]))"
   ]
  },
  {
   "cell_type": "markdown",
   "id": "5d51127d",
   "metadata": {},
   "source": [
    "ans = \n",
    "<img src=\"https://github.com/dw-shin/numerical_analysis/blob/main/figures/poly_least_squares_4digits.png?raw=true.\\\" width=\"700\"/>"
   ]
  },
  {
   "cell_type": "code",
   "execution_count": null,
   "id": "87a46652",
   "metadata": {},
   "outputs": [],
   "source": []
  }
 ],
 "metadata": {
  "kernelspec": {
   "display_name": "Python 3 (ipykernel)",
   "language": "python",
   "name": "python3"
  },
  "language_info": {
   "codemirror_mode": {
    "name": "ipython",
    "version": 3
   },
   "file_extension": ".py",
   "mimetype": "text/x-python",
   "name": "python",
   "nbconvert_exporter": "python",
   "pygments_lexer": "ipython3",
   "version": "3.7.13"
  }
 },
 "nbformat": 4,
 "nbformat_minor": 5
}
